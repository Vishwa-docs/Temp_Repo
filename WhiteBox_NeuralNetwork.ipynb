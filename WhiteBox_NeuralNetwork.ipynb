{
  "nbformat": 4,
  "nbformat_minor": 0,
  "metadata": {
    "colab": {
      "provenance": []
    },
    "kernelspec": {
      "name": "python3",
      "display_name": "Python 3"
    },
    "language_info": {
      "name": "python"
    }
  },
  "cells": [
    {
      "cell_type": "markdown",
      "source": [
        "# Building a Neural Network from scratch\n",
        "\n",
        "\n",
        "You can make complex high level models using keras, but it is unclear how they work without using the equations"
      ],
      "metadata": {
        "id": "Z9UKrIq_q1CS"
      }
    },
    {
      "cell_type": "markdown",
      "source": [
        "# Problem\n",
        "\n",
        "\n",
        "Digit Classification using MNIST Dataset"
      ],
      "metadata": {
        "id": "BzyIBxeCrZmc"
      }
    },
    {
      "cell_type": "markdown",
      "source": [
        "# Mathematical Aspects\n",
        "\n",
        "\n",
        "We start with 28x28 pixel images for training. Each has a value b/w 0-255 (White to Black)\n",
        "\n",
        "We can represent this in a 28x28 matrix\n",
        "\n",
        "We transpose this matrix (Why?)\n",
        "\n",
        "We want to preprocess this and figure out what digit that image represents using a NN\n",
        "\n",
        "We will build a NN with 2 layers. First (INPUT) will have 784 layers, HIDDEN Layer will have 10 and output layer will have 10 as well (0-9)\n",
        "\n",
        "Input layer will be 0 as it is not exactly part of our network. Hidden will be layer 1, Output as layer 2\n",
        "\n",
        "We train the network in 3 parts : \n",
        "\n",
        "1. FORWARD PROPOGATION : Taking an image and running throught the network to get output\n",
        "\n",
        "    A^[0] = X (784 * m)\n",
        "\n",
        "  We do not need to process more in the input layer\n",
        "\n",
        "1. We neeed to get an unactivated hidden layer by adding a weight and a bias to the first layer\n",
        "\n",
        "    Z^[1] = W^[1] * A^[1] + b ^ [1]\n",
        "\n",
        "1. We apply an activation function to it. This will shift from linear combination (LINEAR REGRESSION) to some other dimension\n",
        "    \n",
        "    A^[1] = g(Z^[1]) = ReLU(Z^[1])\n",
        "\n",
        "\n",
        "Rectified Linear Unit : If x > 0, then ReLU(x) = x. If x < 0 then ReLu(x) = 0\n",
        "\n",
        "We then need to add our activated first layer with weight and bias to the second layer as well\n",
        "\n",
        "    Z^[2] = W^[2] * A^[1] + b^[2]\n",
        "\n",
        "(ReLU, Sigmoid, Tantra)\n",
        "  \n",
        "In the second layer, we add another activation function called **SoftMax** because we want there to be some probability for each of the 10 output nodes.\n",
        "\n",
        "    e^z, i / Sigma(e^z, j) for j = 1 till K\n",
        "    (e^z, i) is the current node\n",
        "\n",
        "This will return the probability of all 10 nodes. These values will be between 0 and 1 and the sum of all 10 will be 1\n",
        "\n",
        "\n",
        "We now need to optimize the weights and biases. This is done using **Back Propogation**. We start with the prediction, calculate how much it deviated from the actual value, and calculate which weight contributed most to the change\n",
        "\n",
        "    dZ[2] = A[2] - Y (y is one-hot encoded)\n",
        "    dW[2] = Derivative of loss function\n",
        "    dW[2] = 1/m * dZ[2] * A[1] TRANSPOSED\n",
        "\n",
        "    db[2]. Average of absolute error : 1/m * Sigma(dZ[2])\n",
        "\n",
        "    dZ[1]. W[2] TRANSPOSED * dZ[2] * g'(Z)\n",
        "    We are taking the errors in reverse to get to the fist layer\n",
        "    g'(Z) is the derivative of the activation function as we need to undo the functions effects \n",
        "\n",
        "    dW[1] : Weights of first layer\n",
        "    dW[1] = 1/m * dZ[1] * X Transposed\n",
        "\n",
        "    We want to see how much W1 and X1 contributed to error in first layer\n",
        "\n",
        "    db[1] = 1/m * Sigma(dZ[1])\n",
        "  \n",
        "\n",
        "We then need to update our model accordingly : \n",
        "\n",
        "    W[1] = W[1] - Alpha * dW[1]\n",
        "    Same for b[1], W[2] and b[2]\n",
        "\n",
        "\n",
        "    Aplha : (Hyperparameter) Learning Rate : It is a parameter you set, NOT THE GRADIENT DESCENT\n",
        "  \n",
        "\n",
        "We continue this loop to find out what we need to train\n",
        "    "
      ],
      "metadata": {
        "id": "HzvX29frriND"
      }
    },
    {
      "cell_type": "markdown",
      "source": [
        "# Connecting to Kaggle\n",
        "\n",
        "\n",
        "Load your API credentials json file to the Collab Runtime\n",
        "\n",
        "[Article](https://www.analyticsvidhya.com/blog/2021/06/how-to-load-kaggle-datasets-directly-into-google-colab/)"
      ],
      "metadata": {
        "id": "tA6fVjJbDpFn"
      }
    },
    {
      "cell_type": "code",
      "source": [
        "! pip3 install kaggle\n",
        "! mkdir ~/.kaggle\n",
        "! cp kaggle.json ~/.kaggle/\n",
        "! chmod 600 ~/.kaggle/kaggle.json\n",
        "! kaggle competitions download -c digit-recognizer\n",
        "! unzip digit-recognizer.zip"
      ],
      "metadata": {
        "id": "gBGaIPr-yrrf",
        "colab": {
          "base_uri": "https://localhost:8080/"
        },
        "outputId": "cab42cb2-b052-4a98-ebad-530571f89195"
      },
      "execution_count": 16,
      "outputs": [
        {
          "output_type": "stream",
          "name": "stdout",
          "text": [
            "Looking in indexes: https://pypi.org/simple, https://us-python.pkg.dev/colab-wheels/public/simple/\n",
            "Requirement already satisfied: kaggle in /usr/local/lib/python3.7/dist-packages (1.5.12)\n",
            "Requirement already satisfied: urllib3 in /usr/local/lib/python3.7/dist-packages (from kaggle) (1.24.3)\n",
            "Requirement already satisfied: six>=1.10 in /usr/local/lib/python3.7/dist-packages (from kaggle) (1.15.0)\n",
            "Requirement already satisfied: python-dateutil in /usr/local/lib/python3.7/dist-packages (from kaggle) (2.8.2)\n",
            "Requirement already satisfied: python-slugify in /usr/local/lib/python3.7/dist-packages (from kaggle) (6.1.2)\n",
            "Requirement already satisfied: certifi in /usr/local/lib/python3.7/dist-packages (from kaggle) (2022.9.24)\n",
            "Requirement already satisfied: tqdm in /usr/local/lib/python3.7/dist-packages (from kaggle) (4.64.1)\n",
            "Requirement already satisfied: requests in /usr/local/lib/python3.7/dist-packages (from kaggle) (2.23.0)\n",
            "Requirement already satisfied: text-unidecode>=1.3 in /usr/local/lib/python3.7/dist-packages (from python-slugify->kaggle) (1.3)\n",
            "Requirement already satisfied: idna<3,>=2.5 in /usr/local/lib/python3.7/dist-packages (from requests->kaggle) (2.10)\n",
            "Requirement already satisfied: chardet<4,>=3.0.2 in /usr/local/lib/python3.7/dist-packages (from requests->kaggle) (3.0.4)\n",
            "mkdir: cannot create directory ‘/root/.kaggle’: File exists\n",
            "digit-recognizer.zip: Skipping, found more recently modified local copy (use --force to force download)\n",
            "Archive:  digit-recognizer.zip\n",
            "replace sample_submission.csv? [y]es, [n]o, [A]ll, [N]one, [r]ename: A\n",
            "  inflating: sample_submission.csv   \n",
            "  inflating: test.csv                \n",
            "  inflating: train.csv               \n"
          ]
        }
      ]
    },
    {
      "cell_type": "code",
      "source": [
        "import numpy as np # Linear algebra and matrices\n",
        "import pandas as pd\n",
        "import matplotlib.pyplot as plt"
      ],
      "metadata": {
        "id": "gr0GkIeNFijY"
      },
      "execution_count": 17,
      "outputs": []
    },
    {
      "cell_type": "code",
      "source": [
        "data = pd.read_csv('train.csv')\n",
        "data.head()"
      ],
      "metadata": {
        "colab": {
          "base_uri": "https://localhost:8080/",
          "height": 300
        },
        "id": "jziHbwOtGG_x",
        "outputId": "a8553b9d-60b6-4b92-ff2d-f1b659aa057f"
      },
      "execution_count": 18,
      "outputs": [
        {
          "output_type": "execute_result",
          "data": {
            "text/plain": [
              "   label  pixel0  pixel1  pixel2  pixel3  pixel4  pixel5  pixel6  pixel7  \\\n",
              "0      1       0       0       0       0       0       0       0       0   \n",
              "1      0       0       0       0       0       0       0       0       0   \n",
              "2      1       0       0       0       0       0       0       0       0   \n",
              "3      4       0       0       0       0       0       0       0       0   \n",
              "4      0       0       0       0       0       0       0       0       0   \n",
              "\n",
              "   pixel8  ...  pixel774  pixel775  pixel776  pixel777  pixel778  pixel779  \\\n",
              "0       0  ...         0         0         0         0         0         0   \n",
              "1       0  ...         0         0         0         0         0         0   \n",
              "2       0  ...         0         0         0         0         0         0   \n",
              "3       0  ...         0         0         0         0         0         0   \n",
              "4       0  ...         0         0         0         0         0         0   \n",
              "\n",
              "   pixel780  pixel781  pixel782  pixel783  \n",
              "0         0         0         0         0  \n",
              "1         0         0         0         0  \n",
              "2         0         0         0         0  \n",
              "3         0         0         0         0  \n",
              "4         0         0         0         0  \n",
              "\n",
              "[5 rows x 785 columns]"
            ],
            "text/html": [
              "\n",
              "  <div id=\"df-34c4f0f6-5f10-4382-a059-00c1b7f46ac1\">\n",
              "    <div class=\"colab-df-container\">\n",
              "      <div>\n",
              "<style scoped>\n",
              "    .dataframe tbody tr th:only-of-type {\n",
              "        vertical-align: middle;\n",
              "    }\n",
              "\n",
              "    .dataframe tbody tr th {\n",
              "        vertical-align: top;\n",
              "    }\n",
              "\n",
              "    .dataframe thead th {\n",
              "        text-align: right;\n",
              "    }\n",
              "</style>\n",
              "<table border=\"1\" class=\"dataframe\">\n",
              "  <thead>\n",
              "    <tr style=\"text-align: right;\">\n",
              "      <th></th>\n",
              "      <th>label</th>\n",
              "      <th>pixel0</th>\n",
              "      <th>pixel1</th>\n",
              "      <th>pixel2</th>\n",
              "      <th>pixel3</th>\n",
              "      <th>pixel4</th>\n",
              "      <th>pixel5</th>\n",
              "      <th>pixel6</th>\n",
              "      <th>pixel7</th>\n",
              "      <th>pixel8</th>\n",
              "      <th>...</th>\n",
              "      <th>pixel774</th>\n",
              "      <th>pixel775</th>\n",
              "      <th>pixel776</th>\n",
              "      <th>pixel777</th>\n",
              "      <th>pixel778</th>\n",
              "      <th>pixel779</th>\n",
              "      <th>pixel780</th>\n",
              "      <th>pixel781</th>\n",
              "      <th>pixel782</th>\n",
              "      <th>pixel783</th>\n",
              "    </tr>\n",
              "  </thead>\n",
              "  <tbody>\n",
              "    <tr>\n",
              "      <th>0</th>\n",
              "      <td>1</td>\n",
              "      <td>0</td>\n",
              "      <td>0</td>\n",
              "      <td>0</td>\n",
              "      <td>0</td>\n",
              "      <td>0</td>\n",
              "      <td>0</td>\n",
              "      <td>0</td>\n",
              "      <td>0</td>\n",
              "      <td>0</td>\n",
              "      <td>...</td>\n",
              "      <td>0</td>\n",
              "      <td>0</td>\n",
              "      <td>0</td>\n",
              "      <td>0</td>\n",
              "      <td>0</td>\n",
              "      <td>0</td>\n",
              "      <td>0</td>\n",
              "      <td>0</td>\n",
              "      <td>0</td>\n",
              "      <td>0</td>\n",
              "    </tr>\n",
              "    <tr>\n",
              "      <th>1</th>\n",
              "      <td>0</td>\n",
              "      <td>0</td>\n",
              "      <td>0</td>\n",
              "      <td>0</td>\n",
              "      <td>0</td>\n",
              "      <td>0</td>\n",
              "      <td>0</td>\n",
              "      <td>0</td>\n",
              "      <td>0</td>\n",
              "      <td>0</td>\n",
              "      <td>...</td>\n",
              "      <td>0</td>\n",
              "      <td>0</td>\n",
              "      <td>0</td>\n",
              "      <td>0</td>\n",
              "      <td>0</td>\n",
              "      <td>0</td>\n",
              "      <td>0</td>\n",
              "      <td>0</td>\n",
              "      <td>0</td>\n",
              "      <td>0</td>\n",
              "    </tr>\n",
              "    <tr>\n",
              "      <th>2</th>\n",
              "      <td>1</td>\n",
              "      <td>0</td>\n",
              "      <td>0</td>\n",
              "      <td>0</td>\n",
              "      <td>0</td>\n",
              "      <td>0</td>\n",
              "      <td>0</td>\n",
              "      <td>0</td>\n",
              "      <td>0</td>\n",
              "      <td>0</td>\n",
              "      <td>...</td>\n",
              "      <td>0</td>\n",
              "      <td>0</td>\n",
              "      <td>0</td>\n",
              "      <td>0</td>\n",
              "      <td>0</td>\n",
              "      <td>0</td>\n",
              "      <td>0</td>\n",
              "      <td>0</td>\n",
              "      <td>0</td>\n",
              "      <td>0</td>\n",
              "    </tr>\n",
              "    <tr>\n",
              "      <th>3</th>\n",
              "      <td>4</td>\n",
              "      <td>0</td>\n",
              "      <td>0</td>\n",
              "      <td>0</td>\n",
              "      <td>0</td>\n",
              "      <td>0</td>\n",
              "      <td>0</td>\n",
              "      <td>0</td>\n",
              "      <td>0</td>\n",
              "      <td>0</td>\n",
              "      <td>...</td>\n",
              "      <td>0</td>\n",
              "      <td>0</td>\n",
              "      <td>0</td>\n",
              "      <td>0</td>\n",
              "      <td>0</td>\n",
              "      <td>0</td>\n",
              "      <td>0</td>\n",
              "      <td>0</td>\n",
              "      <td>0</td>\n",
              "      <td>0</td>\n",
              "    </tr>\n",
              "    <tr>\n",
              "      <th>4</th>\n",
              "      <td>0</td>\n",
              "      <td>0</td>\n",
              "      <td>0</td>\n",
              "      <td>0</td>\n",
              "      <td>0</td>\n",
              "      <td>0</td>\n",
              "      <td>0</td>\n",
              "      <td>0</td>\n",
              "      <td>0</td>\n",
              "      <td>0</td>\n",
              "      <td>...</td>\n",
              "      <td>0</td>\n",
              "      <td>0</td>\n",
              "      <td>0</td>\n",
              "      <td>0</td>\n",
              "      <td>0</td>\n",
              "      <td>0</td>\n",
              "      <td>0</td>\n",
              "      <td>0</td>\n",
              "      <td>0</td>\n",
              "      <td>0</td>\n",
              "    </tr>\n",
              "  </tbody>\n",
              "</table>\n",
              "<p>5 rows × 785 columns</p>\n",
              "</div>\n",
              "      <button class=\"colab-df-convert\" onclick=\"convertToInteractive('df-34c4f0f6-5f10-4382-a059-00c1b7f46ac1')\"\n",
              "              title=\"Convert this dataframe to an interactive table.\"\n",
              "              style=\"display:none;\">\n",
              "        \n",
              "  <svg xmlns=\"http://www.w3.org/2000/svg\" height=\"24px\"viewBox=\"0 0 24 24\"\n",
              "       width=\"24px\">\n",
              "    <path d=\"M0 0h24v24H0V0z\" fill=\"none\"/>\n",
              "    <path d=\"M18.56 5.44l.94 2.06.94-2.06 2.06-.94-2.06-.94-.94-2.06-.94 2.06-2.06.94zm-11 1L8.5 8.5l.94-2.06 2.06-.94-2.06-.94L8.5 2.5l-.94 2.06-2.06.94zm10 10l.94 2.06.94-2.06 2.06-.94-2.06-.94-.94-2.06-.94 2.06-2.06.94z\"/><path d=\"M17.41 7.96l-1.37-1.37c-.4-.4-.92-.59-1.43-.59-.52 0-1.04.2-1.43.59L10.3 9.45l-7.72 7.72c-.78.78-.78 2.05 0 2.83L4 21.41c.39.39.9.59 1.41.59.51 0 1.02-.2 1.41-.59l7.78-7.78 2.81-2.81c.8-.78.8-2.07 0-2.86zM5.41 20L4 18.59l7.72-7.72 1.47 1.35L5.41 20z\"/>\n",
              "  </svg>\n",
              "      </button>\n",
              "      \n",
              "  <style>\n",
              "    .colab-df-container {\n",
              "      display:flex;\n",
              "      flex-wrap:wrap;\n",
              "      gap: 12px;\n",
              "    }\n",
              "\n",
              "    .colab-df-convert {\n",
              "      background-color: #E8F0FE;\n",
              "      border: none;\n",
              "      border-radius: 50%;\n",
              "      cursor: pointer;\n",
              "      display: none;\n",
              "      fill: #1967D2;\n",
              "      height: 32px;\n",
              "      padding: 0 0 0 0;\n",
              "      width: 32px;\n",
              "    }\n",
              "\n",
              "    .colab-df-convert:hover {\n",
              "      background-color: #E2EBFA;\n",
              "      box-shadow: 0px 1px 2px rgba(60, 64, 67, 0.3), 0px 1px 3px 1px rgba(60, 64, 67, 0.15);\n",
              "      fill: #174EA6;\n",
              "    }\n",
              "\n",
              "    [theme=dark] .colab-df-convert {\n",
              "      background-color: #3B4455;\n",
              "      fill: #D2E3FC;\n",
              "    }\n",
              "\n",
              "    [theme=dark] .colab-df-convert:hover {\n",
              "      background-color: #434B5C;\n",
              "      box-shadow: 0px 1px 3px 1px rgba(0, 0, 0, 0.15);\n",
              "      filter: drop-shadow(0px 1px 2px rgba(0, 0, 0, 0.3));\n",
              "      fill: #FFFFFF;\n",
              "    }\n",
              "  </style>\n",
              "\n",
              "      <script>\n",
              "        const buttonEl =\n",
              "          document.querySelector('#df-34c4f0f6-5f10-4382-a059-00c1b7f46ac1 button.colab-df-convert');\n",
              "        buttonEl.style.display =\n",
              "          google.colab.kernel.accessAllowed ? 'block' : 'none';\n",
              "\n",
              "        async function convertToInteractive(key) {\n",
              "          const element = document.querySelector('#df-34c4f0f6-5f10-4382-a059-00c1b7f46ac1');\n",
              "          const dataTable =\n",
              "            await google.colab.kernel.invokeFunction('convertToInteractive',\n",
              "                                                     [key], {});\n",
              "          if (!dataTable) return;\n",
              "\n",
              "          const docLinkHtml = 'Like what you see? Visit the ' +\n",
              "            '<a target=\"_blank\" href=https://colab.research.google.com/notebooks/data_table.ipynb>data table notebook</a>'\n",
              "            + ' to learn more about interactive tables.';\n",
              "          element.innerHTML = '';\n",
              "          dataTable['output_type'] = 'display_data';\n",
              "          await google.colab.output.renderOutput(dataTable, element);\n",
              "          const docLink = document.createElement('div');\n",
              "          docLink.innerHTML = docLinkHtml;\n",
              "          element.appendChild(docLink);\n",
              "        }\n",
              "      </script>\n",
              "    </div>\n",
              "  </div>\n",
              "  "
            ]
          },
          "metadata": {},
          "execution_count": 18
        }
      ]
    },
    {
      "cell_type": "code",
      "source": [
        "data = np.array(data)\n",
        "m, n = data.shape\n",
        "# Split into training and testing. See OVERFITTING / Cross validation data\n",
        "\n",
        "np.random.shuffle(data) # Shuffle before splitting\n",
        "\n",
        "data_test = data[0:1000].T # Easier to split Y and X\n",
        "Y_test = data_test[0] # Gives the sigit values\n",
        "X_test = data_test[1:n] # 784 pixels, one in each column\n",
        "X_test = X_test / 255.\n",
        "\n",
        "\n",
        "data_train = data[1000:m].T\n",
        "Y_train = data_train[0]\n",
        "X_train = data_train[1:n]\n",
        "X_train = X_train / 255.\n",
        "\n",
        "_, m_train = X_train.shape"
      ],
      "metadata": {
        "id": "UFKsZ-h0GSmI"
      },
      "execution_count": 30,
      "outputs": []
    },
    {
      "cell_type": "code",
      "source": [
        "Y_train[0], X_train[:, 0].shape"
      ],
      "metadata": {
        "colab": {
          "base_uri": "https://localhost:8080/"
        },
        "id": "77YCMkxBHcG9",
        "outputId": "77aa40fc-898e-4f72-fa8d-81396cc0818a"
      },
      "execution_count": 20,
      "outputs": [
        {
          "output_type": "execute_result",
          "data": {
            "text/plain": [
              "(0, (784,))"
            ]
          },
          "metadata": {},
          "execution_count": 20
        }
      ]
    },
    {
      "cell_type": "code",
      "source": [
        "def init_params():\n",
        "  W1 = np.random.rand(10, 784) - 0.5\n",
        "  # Difference between rand and randn\n",
        "  b1 = np.random.rand(10, 1) - 0.5\n",
        "  W2 = np.random.rand(10, 10) - 0.5\n",
        "  b2 = np.random.rand(10, 1) - 0.5\n",
        "  return W1, b1, W2, b2\n",
        "\n",
        "def ReLU(Z) :\n",
        "  return np.maximum(Z, 0) # Digitwise\n",
        "\n",
        "def derivative_ReLU(Z):\n",
        "  return Z > 0\n",
        "\n",
        "def softmax(X) :\n",
        "  return (np.exp(X) / sum(np.exp(X)))\n",
        "\n",
        "def forward_prop(W1, b1, W2, b2, X):\n",
        "    Z1 = W1.dot(X) + b1\n",
        "    A1 = ReLU(Z1)\n",
        "    Z2 = W2.dot(A1) + b2\n",
        "    A2 = softmax(Z2)\n",
        "    return Z1, A1, Z2, A2\n",
        "\n",
        "def one_hot(Y) : \n",
        "  one_hot_Y = np.zeros((Y.size, Y.max() + 1)) # Size is M, Y max is 9 and  1 makes it 10\n",
        "  one_hot_Y[np.arange(Y.size), Y] = 1 # Indexing using arays\n",
        "  return one_hot_Y.T\n",
        "\n",
        "def backward_prop(Z1, A1, Z2, A2, W1, W2, X, Y):\n",
        "    one_hot_Y = one_hot(Y)\n",
        "    dZ2 = A2 - one_hot_Y\n",
        "    dW2 = 1 / m * dZ2.dot(A1.T)\n",
        "    db2 = 1 / m * np.sum(dZ2)\n",
        "    dZ1 = W2.T.dot(dZ2) * derivative_ReLU(Z1)\n",
        "    dW1 = 1 / m * dZ1.dot(X.T)\n",
        "    db1 = 1 / m * np.sum(dZ1)\n",
        "    return dW1, db1, dW2, db2\n",
        "\n",
        "\n",
        "def update_params(W1, b1, W2, b2, dW1, db1, dW2, db2, alpha):\n",
        "    W1 = W1 - alpha * dW1\n",
        "    b1 = b1 - alpha * db1    \n",
        "    W2 = W2 - alpha * dW2  \n",
        "    b2 = b2 - alpha * db2    \n",
        "    return W1, b1, W2, b2"
      ],
      "metadata": {
        "id": "eAYyRi1AH_FF"
      },
      "execution_count": 41,
      "outputs": []
    },
    {
      "cell_type": "code",
      "source": [
        "def get_predictions(A2) :\n",
        "  return np.argmax(A2, 0)\n",
        "\n",
        "def get_accuracy(predictions, Y) : \n",
        "  print(predictions, Y)\n",
        "  return np.sum(predictions == Y) / Y.size\n",
        "\n",
        "def gradient_descent(X, Y, alpha, iterations):\n",
        "    W1, b1, W2, b2 = init_params()\n",
        "    for i in range(iterations):\n",
        "        Z1, A1, Z2, A2 = forward_prop(W1, b1, W2, b2, X)\n",
        "        dW1, db1, dW2, db2 = backward_prop(Z1, A1, Z2, A2, W1, W2, X, Y)\n",
        "        W1, b1, W2, b2 = update_params(W1, b1, W2, b2, dW1, db1, dW2, db2, alpha)\n",
        "        if i % 10 == 0:\n",
        "            print(\"Iteration: \", i)\n",
        "            predictions = get_predictions(A2)\n",
        "            print(get_accuracy(predictions, Y))\n",
        "    return W1, b1, W2, b2"
      ],
      "metadata": {
        "id": "YzhyqIFRHuCV"
      },
      "execution_count": 43,
      "outputs": []
    },
    {
      "cell_type": "code",
      "source": [
        "W1, b1, W2, b2 = gradient_descent(X_train, Y_train, 0.1, 500)"
      ],
      "metadata": {
        "colab": {
          "base_uri": "https://localhost:8080/"
        },
        "id": "-kkwpcE0Kuvj",
        "outputId": "dd63db46-9b5a-459b-86ea-796b61f64781"
      },
      "execution_count": 44,
      "outputs": [
        {
          "output_type": "stream",
          "name": "stdout",
          "text": [
            "Iteration:  120\n",
            "[2 1 0 ... 7 2 3] [2 1 0 ... 7 2 3]\n",
            "0.7215365853658536\n",
            "Iteration:  130\n",
            "[2 1 0 ... 7 2 3] [2 1 0 ... 7 2 3]\n",
            "0.7351463414634146\n",
            "Iteration:  140\n",
            "[2 1 0 ... 7 2 3] [2 1 0 ... 7 2 3]\n",
            "0.7475365853658537\n",
            "Iteration:  150\n",
            "[2 1 0 ... 7 2 3] [2 1 0 ... 7 2 3]\n",
            "0.7572926829268293\n",
            "Iteration:  160\n",
            "[2 1 0 ... 7 2 3] [2 1 0 ... 7 2 3]\n",
            "0.7660975609756098\n",
            "Iteration:  170\n",
            "[2 1 0 ... 7 2 3] [2 1 0 ... 7 2 3]\n",
            "0.774219512195122\n",
            "Iteration:  180\n",
            "[2 1 0 ... 7 2 3] [2 1 0 ... 7 2 3]\n",
            "0.7818780487804878\n",
            "Iteration:  190\n",
            "[2 1 0 ... 7 2 3] [2 1 0 ... 7 2 3]\n",
            "0.7888048780487805\n",
            "Iteration:  200\n",
            "[2 1 0 ... 7 2 3] [2 1 0 ... 7 2 3]\n",
            "0.7945121951219513\n",
            "Iteration:  210\n",
            "[2 1 0 ... 7 2 3] [2 1 0 ... 7 2 3]\n",
            "0.8000243902439025\n",
            "Iteration:  220\n",
            "[2 1 0 ... 7 2 3] [2 1 0 ... 7 2 3]\n",
            "0.8048780487804879\n",
            "Iteration:  230\n",
            "[2 1 0 ... 7 2 3] [2 1 0 ... 7 2 3]\n",
            "0.8094146341463415\n",
            "Iteration:  240\n",
            "[2 1 0 ... 7 2 3] [2 1 0 ... 7 2 3]\n",
            "0.8132926829268292\n",
            "Iteration:  250\n",
            "[2 1 0 ... 7 2 3] [2 1 0 ... 7 2 3]\n",
            "0.8170731707317073\n",
            "Iteration:  260\n",
            "[2 1 0 ... 7 2 3] [2 1 0 ... 7 2 3]\n",
            "0.8202195121951219\n",
            "Iteration:  270\n",
            "[2 1 0 ... 7 2 3] [2 1 0 ... 7 2 3]\n",
            "0.8232195121951219\n",
            "Iteration:  280\n",
            "[2 1 0 ... 7 2 3] [2 1 0 ... 7 2 3]\n",
            "0.8257560975609756\n",
            "Iteration:  290\n",
            "[2 1 0 ... 7 2 3] [2 1 0 ... 7 2 3]\n",
            "0.8284390243902439\n",
            "Iteration:  300\n",
            "[2 1 0 ... 7 2 3] [2 1 0 ... 7 2 3]\n",
            "0.8309756097560975\n",
            "Iteration:  310\n",
            "[2 1 0 ... 7 2 3] [2 1 0 ... 7 2 3]\n",
            "0.833170731707317\n",
            "Iteration:  320\n",
            "[2 1 0 ... 7 2 3] [2 1 0 ... 7 2 3]\n",
            "0.8356829268292683\n",
            "Iteration:  330\n",
            "[2 1 0 ... 7 2 3] [2 1 0 ... 7 2 3]\n",
            "0.8378780487804878\n",
            "Iteration:  340\n",
            "[2 1 0 ... 7 2 3] [2 1 0 ... 7 2 3]\n",
            "0.8402926829268292\n",
            "Iteration:  350\n",
            "[2 1 0 ... 7 2 3] [2 1 0 ... 7 2 3]\n",
            "0.8421219512195122\n",
            "Iteration:  360\n",
            "[2 1 0 ... 7 2 3] [2 1 0 ... 7 2 3]\n",
            "0.8436829268292683\n",
            "Iteration:  370\n",
            "[2 1 0 ... 7 2 3] [2 1 0 ... 7 2 3]\n",
            "0.8454634146341463\n",
            "Iteration:  380\n",
            "[2 1 0 ... 7 2 3] [2 1 0 ... 7 2 3]\n",
            "0.8476341463414634\n",
            "Iteration:  390\n",
            "[2 1 0 ... 7 2 3] [2 1 0 ... 7 2 3]\n",
            "0.8490975609756097\n",
            "Iteration:  400\n",
            "[2 1 0 ... 7 2 3] [2 1 0 ... 7 2 3]\n",
            "0.8509268292682927\n",
            "Iteration:  410\n",
            "[2 1 0 ... 7 2 3] [2 1 0 ... 7 2 3]\n",
            "0.8525365853658536\n",
            "Iteration:  420\n",
            "[2 1 0 ... 7 2 3] [2 1 0 ... 7 2 3]\n",
            "0.8540243902439024\n",
            "Iteration:  430\n",
            "[2 1 0 ... 7 2 3] [2 1 0 ... 7 2 3]\n",
            "0.8551951219512195\n",
            "Iteration:  440\n",
            "[2 1 0 ... 7 2 3] [2 1 0 ... 7 2 3]\n",
            "0.8562439024390244\n",
            "Iteration:  450\n",
            "[2 1 0 ... 7 2 3] [2 1 0 ... 7 2 3]\n",
            "0.8569512195121951\n",
            "Iteration:  460\n",
            "[2 1 0 ... 7 2 3] [2 1 0 ... 7 2 3]\n",
            "0.8580243902439024\n",
            "Iteration:  470\n",
            "[2 1 0 ... 7 2 3] [2 1 0 ... 7 2 3]\n",
            "0.8590975609756097\n",
            "Iteration:  480\n",
            "[2 1 0 ... 7 2 3] [2 1 0 ... 7 2 3]\n",
            "0.8600487804878049\n",
            "Iteration:  490\n",
            "[2 1 0 ... 7 2 3] [2 1 0 ... 7 2 3]\n",
            "0.8609756097560975\n"
          ]
        }
      ]
    },
    {
      "cell_type": "code",
      "source": [
        "def make_predictions(X, W1, b1, W2, b2):\n",
        "    _, _, _, A2 = forward_prop(W1, b1, W2, b2, X)\n",
        "    predictions = get_predictions(A2)\n",
        "    return predictions\n",
        "\n",
        "def test_prediction(index, W1, b1, W2, b2):\n",
        "    current_image = X_train[:, index, None]\n",
        "    prediction = make_predictions(X_train[:, index, None], W1, b1, W2, b2)\n",
        "    label = Y_train[index]\n",
        "    print(\"Prediction: \", prediction)\n",
        "    print(\"Label: \", label)\n",
        "    \n",
        "    current_image = current_image.reshape((28, 28)) * 255\n",
        "    plt.gray()\n",
        "    plt.imshow(current_image, interpolation='nearest')\n",
        "    plt.show()"
      ],
      "metadata": {
        "id": "rnXjh9Jiu8DW"
      },
      "execution_count": 45,
      "outputs": []
    },
    {
      "cell_type": "code",
      "source": [
        "# Examples\n",
        "\n",
        "test_prediction(0, W1, b1, W2, b2)\n",
        "test_prediction(1, W1, b1, W2, b2)\n",
        "test_prediction(2, W1, b1, W2, b2)\n",
        "test_prediction(3, W1, b1, W2, b2)"
      ],
      "metadata": {
        "colab": {
          "base_uri": "https://localhost:8080/",
          "height": 1000
        },
        "id": "EOVOOC1avEj0",
        "outputId": "fd449c0c-f059-4c7a-cc2f-e9ad776a82b2"
      },
      "execution_count": 46,
      "outputs": [
        {
          "output_type": "stream",
          "name": "stdout",
          "text": [
            "Prediction:  [2]\n",
            "Label:  2\n"
          ]
        },
        {
          "output_type": "display_data",
          "data": {
            "text/plain": [
              "<Figure size 432x288 with 1 Axes>"
            ],
            "image/png": "[encoded data removed]"
          },
          "metadata": {
            "needs_background": "light"
          }
        },
        {
          "output_type": "stream",
          "name": "stdout",
          "text": [
            "Prediction:  [1]\n",
            "Label:  1\n"
          ]
        },
        {
          "output_type": "display_data",
          "data": {
            "text/plain": [
              "<Figure size 432x288 with 1 Axes>"
            ],
            "image/png": "[encoded data removed]"
          },
          "metadata": {
            "needs_background": "light"
          }
        },
        {
          "output_type": "stream",
          "name": "stdout",
          "text": [
            "Prediction:  [0]\n",
            "Label:  0\n"
          ]
        },
        {
          "output_type": "display_data",
          "data": {
            "text/plain": [
              "<Figure size 432x288 with 1 Axes>"
            ],
            "image/png": "[encoded data removed]"
          },
          "metadata": {
            "needs_background": "light"
          }
        },
        {
          "output_type": "stream",
          "name": "stdout",
          "text": [
            "Prediction:  [1]\n",
            "Label:  1\n"
          ]
        },
        {
          "output_type": "display_data",
          "data": {
            "text/plain": [
              "<Figure size 432x288 with 1 Axes>"
            ],
            "image/png": "[encoded data removed]"
          },
          "metadata": {
            "needs_background": "light"
          }
        }
      ]
    },
    {
      "cell_type": "code",
      "source": [
        "# Accuracy on dev set\n",
        "\n",
        "dev_predictions = make_predictions(X_test, W1, b1, W2, b2)\n",
        "get_accuracy(dev_predictions, Y_test)"
      ],
      "metadata": {
        "colab": {
          "base_uri": "https://localhost:8080/"
        },
        "id": "SYYm_e4PvIbL",
        "outputId": "c0d9ca4e-a58f-4192-a868-5b4e18600e88"
      },
      "execution_count": 48,
      "outputs": [
        {
          "output_type": "stream",
          "name": "stdout",
          "text": [
            "[2 1 1 7 2 6 0 8 0 8 2 1 8 2 6 5 7 1 1 7 2 8 6 1 7 5 6 7 0 7 4 1 2 7 9 5 0\n",
            " 4 1 2 9 6 8 6 8 1 9 8 8 2 7 1 9 4 0 4 9 5 4 6 7 7 6 2 1 6 8 0 4 5 9 9 7 8\n",
            " 5 3 1 5 7 0 5 3 6 3 6 2 8 1 8 5 5 3 1 0 7 2 8 3 3 6 6 9 4 1 0 1 9 8 9 8 0\n",
            " 4 0 0 8 7 3 3 1 9 2 7 1 2 6 7 1 2 3 8 4 3 5 9 1 0 8 8 8 4 6 0 5 8 4 1 0 6\n",
            " 7 2 6 0 4 1 1 8 1 7 0 9 8 1 4 8 9 9 4 2 7 5 2 3 9 2 2 9 1 4 4 2 0 3 4 9 7\n",
            " 8 1 0 1 0 3 8 3 8 8 2 6 0 4 5 0 8 7 2 8 4 0 1 8 0 8 2 6 4 0 1 0 1 9 9 9 0\n",
            " 4 2 2 5 0 6 9 7 8 5 2 9 3 2 1 8 2 0 4 1 3 9 1 6 9 9 5 4 0 7 2 3 9 6 1 1 5\n",
            " 4 3 0 2 2 3 0 6 9 3 1 5 4 9 6 4 9 6 1 9 5 4 3 0 4 9 1 6 2 3 0 1 1 3 3 5 3\n",
            " 5 3 8 2 7 1 8 4 0 0 5 7 8 8 4 4 6 6 4 9 1 7 7 4 1 8 4 1 7 7 5 9 2 3 3 3 1\n",
            " 9 7 1 3 7 2 8 4 9 1 3 7 1 7 8 9 2 2 5 0 2 1 6 1 8 2 3 4 7 0 5 9 1 5 0 8 3\n",
            " 0 9 3 8 8 4 6 7 0 2 4 6 1 7 7 7 5 1 4 4 5 4 0 0 0 8 4 6 3 4 0 0 2 2 0 5 0\n",
            " 1 2 3 3 4 6 1 0 6 2 5 4 1 5 2 9 0 4 4 9 3 0 3 6 4 8 9 6 3 8 2 1 1 4 7 9 6\n",
            " 4 3 1 1 8 7 2 4 2 3 1 6 2 0 2 9 6 8 0 1 1 2 7 9 3 8 7 7 2 3 6 9 1 1 0 5 0\n",
            " 6 4 0 8 5 0 1 3 0 0 9 3 2 0 0 1 7 8 9 4 2 0 2 1 9 2 2 1 7 9 3 9 8 2 6 9 7\n",
            " 2 5 7 5 8 8 2 4 6 9 7 9 1 8 8 6 8 1 8 7 7 1 5 7 8 5 2 9 4 5 1 6 6 8 0 0 5\n",
            " 1 6 6 4 2 6 2 6 6 7 4 9 3 2 7 9 8 7 2 2 1 7 8 2 0 5 1 8 1 1 6 8 5 1 7 6 6\n",
            " 2 2 5 6 8 7 8 2 7 6 1 1 0 7 3 2 5 1 5 9 1 6 3 5 8 4 4 4 4 8 8 1 2 0 7 4 9\n",
            " 6 7 6 4 8 4 6 8 5 4 7 1 1 8 8 8 6 6 8 0 5 2 6 8 2 7 7 4 1 8 6 4 7 9 7 1 8\n",
            " 5 0 5 3 3 5 1 9 4 6 3 2 5 6 9 7 5 1 9 5 1 2 8 4 6 1 1 2 4 8 7 7 6 1 1 8 0\n",
            " 7 0 4 0 2 3 5 4 7 7 8 3 4 9 1 2 1 1 5 6 6 0 4 4 1 0 9 9 2 4 9 4 5 4 5 1 4\n",
            " 1 2 2 4 9 4 7 1 4 9 6 1 1 0 1 6 9 4 8 5 1 0 0 2 6 4 1 4 0 2 9 1 1 7 2 3 5\n",
            " 6 4 6 0 8 6 9 3 4 4 3 4 6 8 1 7 4 1 7 4 8 4 4 5 8 5 2 1 0 6 3 8 9 8 9 7 9\n",
            " 2 1 8 5 7 7 4 2 4 4 0 0 8 6 7 4 0 1 2 4 6 3 9 1 4 3 0 1 4 8 9 9 9 5 8 8 4\n",
            " 5 4 7 1 0 8 5 4 9 4 8 5 1 7 1 8 5 9 9 3 2 5 4 1 7 8 9 8 9 3 0 4 1 2 1 5 9\n",
            " 0 6 7 8 4 3 8 6 1 5 8 8 9 2 2 0 8 5 0 7 3 4 0 3 1 7 6 5 6 6 8 1 1 0 1 8 4\n",
            " 2 0 1 2 8 0 9 1 6 4 6 1 9 2 6 2 7 6 3 9 6 0 2 6 8 4 8 0 1 0 8 0 9 6 6 3 8\n",
            " 7 4 9 1 0 0 4 9 5 8 2 6 4 1 9 2 6 7 1 2 1 9 5 4 5 0 2 3 2 3 3 2 2 1 3 6 4\n",
            " 1] [2 1 1 7 2 6 0 8 0 9 2 1 8 2 6 5 7 1 1 7 2 8 6 1 7 5 6 0 0 7 4 1 2 7 9 5 0\n",
            " 4 1 2 9 6 8 6 2 1 9 8 5 2 7 1 7 4 0 4 9 5 4 2 7 7 6 2 1 6 8 0 4 5 9 9 7 5\n",
            " 3 3 1 5 7 0 5 3 6 8 6 2 8 1 8 5 5 3 1 0 7 2 8 3 3 6 6 9 2 1 6 5 9 8 9 8 0\n",
            " 4 0 0 8 7 3 5 1 4 2 7 1 2 6 7 3 2 3 8 4 3 0 9 1 0 8 3 2 4 6 3 5 8 4 1 0 6\n",
            " 7 5 2 6 9 1 1 8 1 7 0 9 8 1 4 8 9 9 4 2 7 5 2 3 9 2 2 9 1 4 6 5 0 3 4 9 2\n",
            " 6 1 0 1 0 3 8 3 8 8 2 6 0 9 5 0 6 7 7 8 4 0 1 8 0 8 2 6 4 6 1 0 1 9 9 9 0\n",
            " 4 2 2 5 0 6 9 8 8 5 7 9 3 3 1 6 2 0 4 1 3 9 1 6 9 9 5 4 0 7 2 5 9 6 1 5 5\n",
            " 4 3 0 2 2 1 0 6 9 3 1 8 4 9 6 4 9 6 1 9 5 4 3 0 4 7 1 6 2 3 0 1 1 8 3 5 3\n",
            " 6 5 8 2 7 1 7 4 0 0 5 7 8 8 4 4 6 6 4 9 1 7 7 4 1 8 4 1 1 9 5 4 2 3 3 3 1\n",
            " 9 7 1 3 7 2 8 4 9 1 3 7 1 7 8 7 2 2 5 0 2 1 6 1 8 2 3 9 7 0 5 9 1 3 0 8 3\n",
            " 0 9 3 8 8 4 6 7 0 2 4 6 1 7 7 9 5 1 4 4 5 9 9 0 0 8 4 6 3 4 0 0 2 2 0 5 0\n",
            " 1 2 3 8 9 0 1 0 5 2 5 4 1 5 2 9 0 4 4 9 9 8 3 6 4 9 4 6 3 8 2 1 1 4 7 9 6\n",
            " 4 3 1 1 8 7 2 4 2 9 1 6 2 0 2 9 5 8 0 1 1 2 1 5 5 1 7 9 2 2 6 9 1 8 0 5 6\n",
            " 6 4 0 8 5 0 1 3 0 0 9 3 2 0 0 1 7 8 9 4 2 0 2 1 9 2 2 1 7 9 3 9 8 2 6 9 7\n",
            " 2 5 7 5 8 8 2 4 6 9 7 9 9 8 5 6 8 1 8 7 7 1 5 7 8 5 2 9 4 5 1 6 6 8 0 0 5\n",
            " 1 6 6 4 2 6 2 6 6 5 4 9 3 2 7 5 8 7 4 8 1 7 0 2 0 3 1 8 1 1 5 8 5 1 7 6 6\n",
            " 2 3 5 6 8 7 8 2 7 6 1 1 0 7 3 2 6 1 8 9 8 6 3 5 8 4 9 4 4 8 8 1 2 0 7 9 7\n",
            " 6 7 6 9 8 4 6 8 0 4 7 1 1 8 3 8 6 6 8 0 5 2 6 8 9 7 7 4 1 8 6 4 7 4 7 1 8\n",
            " 5 0 5 8 3 5 1 9 4 0 3 2 5 3 9 7 5 1 9 5 1 2 8 4 6 1 1 2 4 8 7 7 6 1 1 8 9\n",
            " 7 0 4 0 0 3 5 4 7 7 8 3 4 7 1 2 1 1 3 6 6 0 4 9 1 0 9 9 2 4 7 4 5 6 5 1 4\n",
            " 1 2 2 4 7 4 7 8 4 9 6 1 1 9 1 6 7 4 8 5 1 0 0 7 6 9 1 4 0 2 9 1 1 7 2 3 5\n",
            " 6 4 6 0 3 6 7 3 4 4 3 4 6 8 1 7 4 1 9 4 8 4 4 6 8 5 2 6 0 4 3 8 9 8 9 7 9\n",
            " 2 1 8 3 7 7 4 2 4 4 0 0 8 6 7 4 0 1 3 9 6 8 9 1 9 3 0 1 4 8 9 9 9 5 8 8 8\n",
            " 5 4 7 1 0 8 5 2 2 4 5 5 1 7 1 8 5 9 7 8 2 5 6 1 7 0 9 2 9 3 0 9 1 2 1 5 8\n",
            " 0 6 7 8 4 3 8 4 1 5 8 8 9 2 7 0 8 5 0 7 5 4 0 3 1 5 6 5 6 6 8 1 1 0 1 8 4\n",
            " 2 0 1 2 8 0 9 1 6 4 6 1 9 2 6 2 0 6 3 4 6 0 2 5 8 4 8 0 1 0 8 0 9 6 6 3 1\n",
            " 7 4 7 1 0 0 4 9 8 8 2 0 4 7 9 2 0 7 1 2 1 9 5 9 5 0 2 3 2 5 3 8 2 1 3 6 4\n",
            " 9]\n"
          ]
        },
        {
          "output_type": "execute_result",
          "data": {
            "text/plain": [
              "0.853"
            ]
          },
          "metadata": {},
          "execution_count": 48
        }
      ]
    }
  ]
}